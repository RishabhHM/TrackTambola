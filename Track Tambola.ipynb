{
 "cells": [
  {
   "cell_type": "markdown",
   "metadata": {},
   "source": [
    "# Track Tambola"
   ]
  },
  {
   "cell_type": "markdown",
   "metadata": {},
   "source": [
    "<hr>\n",
    "The 'Game' contains all the different Tickets that a player will have. Here we have assumed that the player has 2 tickets, namely 'Table 1' and 'Table 2'"
   ]
  },
  {
   "cell_type": "code",
   "execution_count": 1,
   "metadata": {},
   "outputs": [],
   "source": [
    "Game = {\n",
    "    \"Table 1\" : [[1,25,33,57,77],[17,37,58,78,81],[4,28,46,65,85]],\n",
    "    \"Table 2\" : [[2,22,42,55,72],[9,37,43,67,87],[10,39,44,69,73]]\n",
    "}"
   ]
  },
  {
   "cell_type": "code",
   "execution_count": 2,
   "metadata": {},
   "outputs": [],
   "source": [
    "def isLine(enum, row):\n",
    "    if len(row) == 0:\n",
    "        print(\"Line {} Complete.\\n\".format(enum + 1))"
   ]
  },
  {
   "cell_type": "code",
   "execution_count": 3,
   "metadata": {},
   "outputs": [],
   "source": [
    "def isFullHouse(Game, tab):\n",
    "    if len(Game[tab][0]) == 0 and len(Game[tab][1]) == 0 and len(Game[tab][2]) == 0:\n",
    "        print(tab + \" Full House!!!\")"
   ]
  },
  {
   "cell_type": "code",
   "execution_count": null,
   "metadata": {},
   "outputs": [
    {
     "name": "stdout",
     "output_type": "stream",
     "text": [
      "Enter the Token Number: 1\n",
      "Enter the Token Number: 25\n",
      "Enter the Token Number: 33\n",
      "Enter the Token Number: 57\n",
      "Enter the Token Number: 77\n",
      "Line 1 Complete.\n",
      "\n",
      "Enter the Token Number: 17\n",
      "Enter the Token Number: 37\n",
      "Enter the Token Number: 58\n",
      "Enter the Token Number: 78\n",
      "Enter the Token Number: 81\n",
      "Line 2 Complete.\n",
      "\n",
      "Enter the Token Number: 4\n",
      "Enter the Token Number: 28\n",
      "Enter the Token Number: 46\n",
      "Enter the Token Number: 65\n",
      "Enter the Token Number: 85\n",
      "Line 3 Complete.\n",
      "\n",
      "Table 1 Full House!!!\n"
     ]
    }
   ],
   "source": [
    "while True:\n",
    "    try:\n",
    "        num = int(input(\"Enter the Token Number: \"))\n",
    "    except ValueError:\n",
    "        print(\"Only Numbers Accepted. Please Recheck Your Input.\\n\")\n",
    "    else:\n",
    "        for tab,tkn_rows in Game.items():\n",
    "            for enum, row in enumerate(tkn_rows):\n",
    "                if num in row:\n",
    "                    #print(tab + \"\\n\")\n",
    "                    Game[tab][enum].remove(num)\n",
    "                    isLine(enum, row)\n",
    "                    isFullHouse(Game, tab)"
   ]
  }
 ],
 "metadata": {
  "kernelspec": {
   "display_name": "Python 3",
   "language": "python",
   "name": "python3"
  },
  "language_info": {
   "codemirror_mode": {
    "name": "ipython",
    "version": 3
   },
   "file_extension": ".py",
   "mimetype": "text/x-python",
   "name": "python",
   "nbconvert_exporter": "python",
   "pygments_lexer": "ipython3",
   "version": "3.7.3"
  }
 },
 "nbformat": 4,
 "nbformat_minor": 2
}
